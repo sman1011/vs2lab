{
 "cells": [
  {
   "cell_type": "markdown",
   "metadata": {},
   "source": [
    "# Running server and client in separate notebooks - client part\n",
    "\n",
    "Here we start the client. The server needs to be started first. Lets go....\n",
    "\n",
    "#### Eintrag aus dem Telefonbuch unter dem Namen \"A\":"
   ]
  },
  {
   "cell_type": "code",
   "execution_count": 5,
   "metadata": {},
   "outputs": [
    {
     "name": "stderr",
     "output_type": "stream",
     "text": [
      "2020-11-05 14:24:36,487 - vs2lab.a1_layers.client_1.Client - INFO - Client connected to socket <socket.socket fd=1144, family=AddressFamily.AF_INET, type=SocketKind.SOCK_STREAM, proto=0, laddr=('127.0.0.1', 53800), raddr=('127.0.0.1', 50007)>\n",
      "2020-11-05 14:24:36,490 - vs2lab.a1_layers.client_1.Client - INFO - GET REQUEST: A: 111111\n"
     ]
    },
    {
     "data": {
      "text/plain": [
       "'A: 111111'"
      ]
     },
     "execution_count": 5,
     "metadata": {},
     "output_type": "execute_result"
    }
   ],
   "source": [
    "import clientserver # import from our script\n",
    "\n",
    "client = clientserver.Client() # Create a client instance\n",
    "\n",
    "client.call(\"get A\") # start the call and print echo"
   ]
  },
  {
   "cell_type": "markdown",
   "metadata": {},
   "source": [
    "#### Alle Einträge aus dem Telefonbuch:"
   ]
  },
  {
   "cell_type": "code",
   "execution_count": 6,
   "metadata": {
    "pycharm": {
     "name": "#%%\n"
    }
   },
   "outputs": [
    {
     "name": "stderr",
     "output_type": "stream",
     "text": [
      "2020-11-05 14:24:47,495 - vs2lab.a1_layers.client_1.Client - INFO - Client connected to socket <socket.socket fd=1144, family=AddressFamily.AF_INET, type=SocketKind.SOCK_STREAM, proto=0, laddr=('127.0.0.1', 53801), raddr=('127.0.0.1', 50007)>\n",
      "2020-11-05 14:24:47,498 - vs2lab.a1_layers.client_1.Client - INFO - GETALL REQUEST: A: 111111 B: 222222 C: 333333 D: 444444 E: 555555 \n"
     ]
    },
    {
     "data": {
      "text/plain": [
       "'A: 111111 B: 222222 C: 333333 D: 444444 E: 555555 '"
      ]
     },
     "execution_count": 6,
     "metadata": {},
     "output_type": "execute_result"
    }
   ],
   "source": [
    "import clientserver # import from our script\n",
    "\n",
    "client = clientserver.Client() # Create a client instance\n",
    "client.call('getAll') # start the call and print echo"
   ]
  },
  {
   "cell_type": "markdown",
   "metadata": {},
   "source": [
    "#### Falsche Eingabe:"
   ]
  },
  {
   "cell_type": "code",
   "execution_count": 7,
   "metadata": {
    "pycharm": {
     "name": "#%%\n"
    }
   },
   "outputs": [
    {
     "name": "stderr",
     "output_type": "stream",
     "text": [
      "2020-11-05 14:24:52,524 - vs2lab.a1_layers.client_1.Client - INFO - Client connected to socket <socket.socket fd=1128, family=AddressFamily.AF_INET, type=SocketKind.SOCK_STREAM, proto=0, laddr=('127.0.0.1', 53802), raddr=('127.0.0.1', 50007)>\n",
      "2020-11-05 14:24:52,527 - vs2lab.a1_layers.client_1.Client - INFO - BAD DATA: Client down.\n"
     ]
    },
    {
     "data": {
      "text/plain": [
       "'asdasd: keine Daten'"
      ]
     },
     "execution_count": 7,
     "metadata": {},
     "output_type": "execute_result"
    }
   ],
   "source": [
    "import clientserver # import from our script\n",
    "\n",
    "client = clientserver.Client()\n",
    "client.call('asdasd') # start the call and print echo"
   ]
  },
  {
   "cell_type": "markdown",
   "metadata": {},
   "source": [
    "#### Keine Eingabe:"
   ]
  },
  {
   "cell_type": "code",
   "execution_count": 4,
   "metadata": {
    "pycharm": {
     "name": "#%%\n"
    }
   },
   "outputs": [
    {
     "name": "stderr",
     "output_type": "stream",
     "text": [
      "2020-11-05 13:49:01,038 - vs2lab.a1_layers.client_1.Client - INFO - Client connected to socket <socket.socket fd=1196, family=AddressFamily.AF_INET, type=SocketKind.SOCK_STREAM, proto=0, laddr=('127.0.0.1', 52862), raddr=('127.0.0.1', 50007)>\n",
      "2020-11-05 13:49:01,039 - vs2lab.a1_layers.client_1.Client - INFO - NO DATA: Client down.\n"
     ]
    },
    {
     "data": {
      "text/plain": [
       "'keine Eingabe'"
      ]
     },
     "execution_count": 4,
     "metadata": {},
     "output_type": "execute_result"
    }
   ],
   "source": [
    "import clientserver # import from our script\n",
    "\n",
    "client = clientserver.Client()\n",
    "client.call('') # start the call and print echo"
   ]
  },
  {
   "cell_type": "markdown",
   "metadata": {
    "pycharm": {
     "name": "#%% md\n"
    }
   },
   "source": [
    "#### Finished"
   ]
  }
 ],
 "metadata": {
  "kernelspec": {
   "display_name": "Python 3",
   "language": "python",
   "name": "python3"
  },
  "language_info": {
   "codemirror_mode": {
    "name": "ipython",
    "version": 3
   },
   "file_extension": ".py",
   "mimetype": "text/x-python",
   "name": "python",
   "nbconvert_exporter": "python",
   "pygments_lexer": "ipython3",
   "version": "3.8.5"
  }
 },
 "nbformat": 4,
 "nbformat_minor": 2
}
