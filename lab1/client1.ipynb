{
 "cells": [
  {
   "cell_type": "markdown",
   "metadata": {
    "pycharm": {
     "name": "#%%\n"
    }
   },
   "source": [
    "## __Client__\n",
    "### Anfragen\n",
    "#### Bitte geben Sie Ihre Anfragen an:\n",
    "#### __get__ oder __Get__ um eine Nummer aus dem Telefonbuch zu beziehen\n",
    "#### __getAll__ oder __GetAll__ um alle Nummer aus dem Telefonbuch zu beziehen"
   ]
  },
  {
   "cell_type": "code",
   "execution_count": 4,
   "metadata": {
    "pycharm": {
     "name": "#%%\n"
    }
   },
   "outputs": [
    {
     "name": "stdout",
     "output_type": "stream",
     "text": [
      "connected!\n",
      "Your request: exit\n",
      "exit \n"
     ]
    }
   ],
   "source": [
    "import client"
   ]
  }
 ],
 "metadata": {
  "kernelspec": {
   "display_name": "Python 3",
   "language": "python",
   "name": "python3"
  },
  "language_info": {
   "codemirror_mode": {
    "name": "ipython",
    "version": 3
   },
   "file_extension": ".py",
   "mimetype": "text/x-python",
   "name": "python",
   "nbconvert_exporter": "python",
   "pygments_lexer": "ipython3",
   "version": "3.8.5"
  }
 },
 "nbformat": 4,
 "nbformat_minor": 1
}